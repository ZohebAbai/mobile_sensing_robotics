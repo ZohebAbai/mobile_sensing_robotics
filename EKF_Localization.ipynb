{
  "nbformat": 4,
  "nbformat_minor": 0,
  "metadata": {
    "kernelspec": {
      "display_name": "Python 3",
      "language": "python",
      "name": "python3"
    },
    "language_info": {
      "codemirror_mode": {
        "name": "ipython",
        "version": 3
      },
      "file_extension": ".py",
      "mimetype": "text/x-python",
      "name": "python",
      "nbconvert_exporter": "python",
      "pygments_lexer": "ipython3",
      "version": "3.5.2"
    },
    "colab": {
      "name": "EKF Localization.ipynb",
      "provenance": [],
      "collapsed_sections": []
    }
  },
  "cells": [
    {
      "cell_type": "markdown",
      "metadata": {
        "id": "nL6jJIopDNSV"
      },
      "source": [
        "# Exercise 6 - EKF Localization\n",
        "\n",
        "In this assignment you need to implement an EKF algorithm for localizing a robot in a given landmark map. \n",
        "The data for this exercise is recorded on a differential drive robot equipped with a sensor able to detect the distance and the angle of landmarks (e.g., beacons). The figure below visualizes the landmark map and the actual trajectory (ground truth) taken by the robot."
      ]
    },
    {
      "cell_type": "code",
      "metadata": {
        "scrolled": true,
        "colab": {
          "base_uri": "https://localhost:8080/",
          "height": 265
        },
        "id": "Ubv_vn3nDNSg",
        "outputId": "9dbdf4d0-2d7a-4868-b22d-608d13c7bfce"
      },
      "source": [
        "import pickle\n",
        "import numpy as np\n",
        "import matplotlib.pyplot as plt\n",
        "from ex9 import *\n",
        "%matplotlib inline\n",
        "\n",
        "# read dataset\n",
        "data = pickle.load(open(\"dataset_2d_landmarks.p\", \"rb\"))\n",
        "\n",
        "# get landmark coordinates \n",
        "M = data['M']\n",
        "\n",
        "# get ground truth trajectory\n",
        "gt_traj = data['gt']\n",
        "\n",
        "# show map\n",
        "plt.figure(1)\n",
        "plt.plot(M[:,0], M[:,1], '^r')\n",
        "\n",
        "# show ground truth trajectory\n",
        "for i in range(0,len(gt_traj),10):\n",
        "    plt.plot(gt_traj[i][0],gt_traj[i][1], '.b')"
      ],
      "execution_count": 1,
      "outputs": [
        {
          "output_type": "display_data",
          "data": {
            "image/png": "[encoded data removed]",
            "text/plain": [
              "<Figure size 432x288 with 1 Axes>"
            ]
          },
          "metadata": {
            "tags": [],
            "needs_background": "light"
          }
        }
      ]
    },
    {
      "cell_type": "markdown",
      "metadata": {
        "id": "IGM7nICEDNSk"
      },
      "source": [
        "The following data is provided in `data`:\n",
        "\n",
        "- *M* is the map of the environment where the robot must localize\n",
        "- *odom* is the noisy odometry readings observed by the robot during navigation in the form: $\\hat{x}_t,\\hat{y}_t, \\hat{\\theta}_t$ in the odometry frame\n",
        "- *gt* is the ground truth trajectory (poses in the map frame), you may want to use it for checking your results\n",
        "- *z* are the sensor measurements\n",
        "\n",
        "Each measurement $z_t$ contains a set of observed landmarks $[\\rho_i; \\phi_i; id_i]$, where $\\rho_i$ is the measured distance, $\\phi_i$ is the measured angle, and $id_i$ is the id of the landmark.\n",
        "\n",
        "You can access the `data` as follows:"
      ]
    },
    {
      "cell_type": "code",
      "metadata": {
        "colab": {
          "base_uri": "https://localhost:8080/"
        },
        "id": "XsLKRufMDNSm",
        "outputId": "88ad55ff-5616-4b1e-f920-6f5f3589a7f3"
      },
      "source": [
        "# get odomety at timestamp 10\n",
        "odom_10 = data['odom'][10]\n",
        "print(\"Odom at step 10 is: \\n\",odom_10)\n",
        "\n",
        "# get observation at timestamp 10\n",
        "z_10 = data['z'][10]\n",
        "print(\"Observation at step 10 is: \\n\",z_10)"
      ],
      "execution_count": 2,
      "outputs": [
        {
          "output_type": "stream",
          "text": [
            "Odom at step 10 is: \n",
            " [ 0.3449921   0.00058428 -0.02110238]\n",
            "Observation at step 10 is: \n",
            " [[ 2.1793557   1.27533718  3.5604415 ]\n",
            " [ 2.92652148 -1.4372858   0.4519207 ]\n",
            " [ 4.         11.         14.        ]]\n"
          ],
          "name": "stdout"
        }
      ]
    },
    {
      "cell_type": "markdown",
      "metadata": {
        "id": "lWOQeSHyDNSn"
      },
      "source": [
        "## 6.1 Prediction [3.0]\n",
        "\n",
        "The `ekf_predict` function computes a prediction about the robot's pose after moving by using the odometry motion model.\n",
        "\n",
        "It takes as input:\n",
        "\n",
        "- the current belief about the pose of the robot represented as a Gaussian distribution $\\mathcal{N}(\\mu_t,\\Sigma_t)$ \n",
        "- the odometry readings $u_t$\n",
        "\n",
        "The output is a prediction about the robot's pose $\\mathcal{N}(\\overline{\\mu}_{t+1},\\overline{\\Sigma}_{t+1})$.\n",
        "\n",
        "You can use your implementation of the `inverse_motion_model` function from Exercise 3 to compute the $u_t = [\\delta_{rot1}, \\delta_{trans}, \\delta_{rot2}]$  from the odometry information.\n",
        "\n",
        "Implement the `ekf_predict` function and verify that it is correct for some test input. "
      ]
    },
    {
      "cell_type": "code",
      "metadata": {
        "colab": {
          "base_uri": "https://localhost:8080/"
        },
        "id": "Ui0p9NTsDNSn",
        "outputId": "6ea420f0-79d0-420d-d8f1-6457a46d4058"
      },
      "source": [
        "mu_t = np.array([2, 2, np.pi/2]) \n",
        "S_t = np.array([[1, 0, 0],[0, 1, 0], [0, 0, 1]])\n",
        "R_t = np.zeros((3,3))\n",
        "\n",
        "mu_p, S_p = ekf_predict(mu_t.reshape(3,1),S_t,[[0,0,0],[1,0,0]],R_t)\n",
        "print(mu_p)\n",
        "print(S_p)"
      ],
      "execution_count": 3,
      "outputs": [
        {
          "output_type": "stream",
          "text": [
            "[[2.        ]\n",
            " [3.        ]\n",
            " [1.57079633]]\n",
            "[[ 2.000000e+00 -6.123234e-17 -1.000000e+00]\n",
            " [-6.123234e-17  1.000000e+00  6.123234e-17]\n",
            " [-1.000000e+00  6.123234e-17  1.000000e+00]]\n"
          ],
          "name": "stdout"
        }
      ]
    },
    {
      "cell_type": "markdown",
      "metadata": {
        "id": "wikUd9-1Hcmi"
      },
      "source": [
        "Here we can can see that without any process noise predict is equal to the command and uncertainity is increasing hence the model is correct"
      ]
    },
    {
      "cell_type": "markdown",
      "metadata": {
        "id": "V24g0sD0DNSn"
      },
      "source": [
        "## 6.2 Correction [3.0]\n",
        "\n",
        "The `ekf_correct` implements the correction step of the EKF that corrects the prediction according to the sensor measurements.\n",
        "\n",
        "It takes as input:\n",
        "\n",
        "- the current prediction about the pose of the robot represented as a Gaussian distribution $\\mathcal{N}(\\overline{\\mu}_{t+1},\\overline{\\Sigma}_{t+1})$\n",
        "- the sensor measurements $z_t$\n",
        "\n",
        "The output is new belief about the robot's pose $\\mathcal{N}({\\mu}_{t+1},{\\Sigma}_{t+1})$.\n",
        "\n",
        "Implement the `ekf_correct` function and verify that it is correct for some test input"
      ]
    },
    {
      "cell_type": "code",
      "metadata": {
        "colab": {
          "base_uri": "https://localhost:8080/"
        },
        "id": "0kJe0LvcDNSo",
        "outputId": "e7879612-c7e4-424e-c7cc-dfcb1a7acb78"
      },
      "source": [
        "# 3x3 process noise\n",
        "sigma_x = 0.25  # [m]\n",
        "sigma_y = 0.25  # [m]\n",
        "sigma_theta = np.deg2rad(10)  # [rad]\n",
        "R = np.diag(np.array([sigma_x, sigma_y, sigma_theta])**2)\n",
        "\n",
        "# 2x2 observation noise\n",
        "sigma_r = 0.1  # [m]\n",
        "sigma_phi = np.deg2rad(5)  # [rad]\n",
        "Q = np.diag(np.array([sigma_r, sigma_phi])**2)\n",
        "\n",
        "# initial state\n",
        "mu_bar = np.array([2, 2, np.pi/2]) \n",
        "S_bar = np.array([[1, 0, 0],[0, 1, 0], [0, 0, np.pi/3]])\n",
        "\n",
        "\n",
        "for i in range(1,100):   \n",
        "    u_t = [data['odom'][i-1],data['odom'][i]]\n",
        "    mu_bar,S_bar = ekf_predict(mu_bar.reshape(3,1), S_bar, u_t,R)\n",
        "\n",
        "print(\"Only running predict\")\n",
        "print(mu_bar.T)\n",
        "print(S_bar)\n",
        "\n",
        "mu = np.array([2, 2, np.pi/2]) \n",
        "S = np.array([[1, 0, 0],[0, 1, 0], [0, 0, np.pi/3]])\n",
        "\n",
        "for i in range(1,100):   \n",
        "    u_t = [data['odom'][i-1],data['odom'][i]]\n",
        "    z = data['z'][i]\n",
        "    mu_bar, sigma_bar = ekf_predict(mu.reshape(3,1), S, u_t, R)\n",
        "    mu, S = ekf_correct(mu_bar, sigma_bar, z, Q, M)\n",
        "print(\"After running correct\")\n",
        "print(mu.T)\n",
        "print(S)\n",
        "\n",
        "print(gt_traj[100])"
      ],
      "execution_count": 4,
      "outputs": [
        {
          "output_type": "stream",
          "text": [
            "Only running predict\n",
            "[[1.89063269 5.01048817 1.62486271]]\n",
            "[[ 37.72779086   1.32764084 -16.78221971]\n",
            " [  1.32764084   7.24248271  -0.75091664]\n",
            " [-16.78221971  -0.75091664  10.25041001]]\n",
            "After running correct\n",
            "[[2.0040227 4.9373632 1.5636316]]\n",
            "[[ 2.75648868e-04  2.67331217e-05 -1.60102224e-05]\n",
            " [ 2.67331217e-05  2.15708967e-03  6.52565542e-05]\n",
            " [-1.60102224e-05  6.52565542e-05  1.25167499e-03]]\n",
            "[2.         5.03       1.57079633]\n"
          ],
          "name": "stdout"
        }
      ]
    },
    {
      "cell_type": "markdown",
      "metadata": {
        "id": "Oh12mIgEHkiV"
      },
      "source": [
        "Here we can see that after running predict it is converging to ground truth and we can say that the function is working fine"
      ]
    },
    {
      "cell_type": "markdown",
      "metadata": {
        "id": "cz9bLaAqDNSo"
      },
      "source": [
        "## 6.3 Localization [3.0]\n",
        "\n",
        "Once you complete all the above functions, implement the main procedure of EKF localization `ekf_localization` which recursively estimates the pose of the robot using the odometry data and the sensor measurements.\n",
        "\n",
        "Assume the initial belief at time $t=0$ is:\n",
        "\n",
        "- $\\mu = [2, 2, \\pi/2]'$\n",
        "- $\n",
        "\\Sigma = \\left(\\begin{array}{cc} \n",
        "1 & 0 & 0\\\\\n",
        "0 & 1 & 0 \\\\\n",
        "0 & 0 & \\pi/3\n",
        "\\end{array}\\right)\n",
        "$ \n",
        "            \n",
        "The process noise $R$ and measurement noise $Q$ are defined as:\n",
        "- $R = \\left(\\begin{array}{cc} \n",
        "\\sigma_x^2 & 0 & 0 \\\\\n",
        "0 & \\sigma_y^2 & 0 \\\\\n",
        "0 & 0 &  \\sigma_{theta}^2\n",
        "\\end{array}\\right)\n",
        "$\n",
        "\n",
        "with $\\sigma_x = 0.25$ meters, $\\sigma_y = 0.25$ meters and $\\sigma_theta = 10$ degrees. \n",
        " \n",
        "- $Q = \n",
        "\\left(\\begin{array}{cc} \n",
        "\\sigma_r^2 & 0 \\\\\n",
        "0 & \\sigma_{phi}^2 \n",
        "\\end{array}\\right)\n",
        "$\n",
        "\n",
        "with $\\sigma_r = 0.10$ meters, $\\sigma_{phi} = 5$ degrees. \n",
        "\n",
        "Plot the belief about the position of the robot after the sequence of odometry readings and sensor measurements provided in `data` by using the `plot_state` function."
      ]
    },
    {
      "cell_type": "code",
      "metadata": {
        "colab": {
          "base_uri": "https://localhost:8080/",
          "height": 281
        },
        "id": "MsmBRBmUDNSp",
        "outputId": "37cfaf3a-12bc-4ab7-e825-2f866fd2302b"
      },
      "source": [
        "# 3x3 process noise\n",
        "sigma_x = 0.25  # [m]\n",
        "sigma_y = 0.25  # [m]\n",
        "sigma_theta = np.deg2rad(10)  # [rad]\n",
        "R = np.diag(np.array([sigma_x, sigma_y, sigma_theta])**2)\n",
        "\n",
        "# 2x2 observation noise\n",
        "sigma_r = 0.1  # [m]\n",
        "sigma_phi = np.deg2rad(5)  # [rad]\n",
        "Q = np.diag(np.array([sigma_r, sigma_phi])**2)\n",
        "\n",
        "# initial state\n",
        "mu = np.array([2, 2, np.pi/2]) \n",
        "S = np.array([[1, 0, 0],[0, 1, 0], [0, 0, np.pi/3]])\n",
        "\n",
        "# visualize\n",
        "plt.figure()\n",
        "plot_state(mu, S, M)"
      ],
      "execution_count": 5,
      "outputs": [
        {
          "output_type": "display_data",
          "data": {
            "image/png": "[encoded data removed]",
            "text/plain": [
              "<Figure size 432x288 with 1 Axes>"
            ]
          },
          "metadata": {
            "tags": [],
            "needs_background": "light"
          }
        }
      ]
    },
    {
      "cell_type": "code",
      "metadata": {
        "colab": {
          "base_uri": "https://localhost:8080/",
          "height": 281
        },
        "id": "FiT-znJ1DNSp",
        "outputId": "1bb9fe2e-9199-4384-fa0a-aa8ef8ea5d7f"
      },
      "source": [
        "for i in range(1,len(data['odom'])):   \n",
        "    u_t = [data['odom'][i-1], data['odom'][i]]\n",
        "    z = data['z'][i]\n",
        "\n",
        "    mu_bar, sigma_bar = ekf_predict(mu.reshape(3,1), S, u_t, R)\n",
        "    mu, S = ekf_correct(mu_bar, sigma_bar, z, Q, M)\n",
        "    plot_state(mu, S, M)"
      ],
      "execution_count": 6,
      "outputs": [
        {
          "output_type": "display_data",
          "data": {
            "image/png": "[encoded data removed]",
            "text/plain": [
              "<Figure size 432x288 with 1 Axes>"
            ]
          },
          "metadata": {
            "tags": [],
            "needs_background": "light"
          }
        }
      ]
    }
  ]
}