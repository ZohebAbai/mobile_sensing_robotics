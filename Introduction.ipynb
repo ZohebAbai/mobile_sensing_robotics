{
  "nbformat": 4,
  "nbformat_minor": 0,
  "metadata": {
    "kernelspec": {
      "display_name": "Python 3",
      "language": "python",
      "name": "python3"
    },
    "language_info": {
      "codemirror_mode": {
        "name": "ipython",
        "version": 3
      },
      "file_extension": ".py",
      "mimetype": "text/x-python",
      "name": "python",
      "nbconvert_exporter": "python",
      "pygments_lexer": "ipython3",
      "version": "3.6.9"
    },
    "toc": {
      "base_numbering": 1,
      "nav_menu": {},
      "number_sections": true,
      "sideBar": true,
      "skip_h1_title": false,
      "title_cell": "Table of Contents",
      "title_sidebar": "Contents",
      "toc_cell": false,
      "toc_position": {},
      "toc_section_display": true,
      "toc_window_display": false
    },
    "colab": {
      "name": "Introduction.ipynb",
      "provenance": [],
      "collapsed_sections": [],
      "include_colab_link": true
    }
  },
  "cells": [
    {
      "cell_type": "markdown",
      "metadata": {
        "id": "view-in-github",
        "colab_type": "text"
      },
      "source": [
        "<a href=\"https://colab.research.google.com/github/ZohebAbai/mobile_sensing_robotics/blob/main/Introduction.ipynb\" target=\"_parent\"><img src=\"https://colab.research.google.com/assets/colab-badge.svg\" alt=\"Open In Colab\"/></a>"
      ]
    },
    {
      "cell_type": "markdown",
      "metadata": {
        "id": "12gvwJpvRmRq"
      },
      "source": [
        "# **Python Tutorial - Exercise**\n",
        "This Jupyter-Notebook script is a collection of exercises for the [introduction to python](https://www.ipb.uni-bonn.de/python-intro/).\n",
        "\n",
        "For the submission make sure to...\n",
        "- rename this file (ex-00-yourLastname.ipynb)\n",
        "- answer all questions in this file. \n",
        "- run the script from the beginning to the end (restart kernel and run whole notebook: '>>'-Button)\n",
        "- submit all necessary files to run this script (e.g. .zip/.tar)\n",
        "\n",
        "#### **Points: [40]**"
      ]
    },
    {
      "cell_type": "markdown",
      "metadata": {
        "id": "x6RBJTXxRmRz"
      },
      "source": [
        "## **A. Variables [2]**\n",
        "\n",
        "A variable is a container for a value, which can be of various types, e.g., int, float, str..."
      ]
    },
    {
      "cell_type": "markdown",
      "metadata": {
        "id": "7iCIsKz4RmR0"
      },
      "source": [
        "**Task**: Define two variables $x$ and $y$ and compute their divsion and sum. Let $x = 10$ and $y=3$. **Print out** the **type** of $x$, $y$, $\\frac{x}{y}$ and $x+y$ as well as the **result** of their divsion and sum. **[2]**"
      ]
    },
    {
      "cell_type": "code",
      "metadata": {
        "id": "Kb1w4jLGRmR1"
      },
      "source": [
        "# Define the variables in this cell\n",
        "x, y = 10, 3"
      ],
      "execution_count": 1,
      "outputs": []
    },
    {
      "cell_type": "code",
      "metadata": {
        "id": "fRkAM9b0RmR1"
      },
      "source": [
        "# Compute the divsion of both variables\n",
        "division = x/y"
      ],
      "execution_count": 2,
      "outputs": []
    },
    {
      "cell_type": "code",
      "metadata": {
        "id": "pa2vlC4uRmR2"
      },
      "source": [
        "# Compute the sum of both variables\n",
        "summation = x+y"
      ],
      "execution_count": 3,
      "outputs": []
    },
    {
      "cell_type": "code",
      "metadata": {
        "colab": {
          "base_uri": "https://localhost:8080/"
        },
        "id": "uQJNpLRmRmR2",
        "outputId": "1a1a993a-edf2-48d2-c5d7-efd56da63cb7"
      },
      "source": [
        "# Print out the data types in this cell\n",
        "print(f\"Data type of x: {type(x)}, y: {type(y)}, division: {type(division)}, summation: {type(summation)}\")"
      ],
      "execution_count": 4,
      "outputs": [
        {
          "output_type": "stream",
          "text": [
            "Data type of x: <class 'int'>, y: <class 'int'>, division: <class 'float'>, summation: <class 'int'>\n"
          ],
          "name": "stdout"
        }
      ]
    },
    {
      "cell_type": "code",
      "metadata": {
        "colab": {
          "base_uri": "https://localhost:8080/"
        },
        "id": "0FpbNsT4RmR3",
        "outputId": "335f1ba6-dc24-4f60-ba5a-92d33d36d90a"
      },
      "source": [
        "# Print out the result of the divison and sum in this cell\n",
        "print(f\"Result Divsion: {division}, Result Sum: {summation}\")"
      ],
      "execution_count": 5,
      "outputs": [
        {
          "output_type": "stream",
          "text": [
            "Result Divsion: 3.3333333333333335, Result Sum: 13\n"
          ],
          "name": "stdout"
        }
      ]
    },
    {
      "cell_type": "markdown",
      "metadata": {
        "id": "AGKHHfAcRmR4"
      },
      "source": [
        "## **B. Data Structures [7]**\n",
        "Python has several data structures for efficient data organization. We will now look a little bit closer to the most important ones: \n",
        "- A List is a collection which is *ordered* and *changeable (mutable)*. It allows for *duplicate members*.\n",
        "- A Tuple is a collection which is *ordered* and *unchangeable (immutable)*. It allows for *duplicate members*.\n",
        "- A Dictionary is a collection which is *unordered*, *changeable (mutable)* and *indexed*. *No duplicate* keys allowed"
      ]
    },
    {
      "cell_type": "markdown",
      "metadata": {
        "id": "YL3X9NcQRmR4"
      },
      "source": [
        "#### **B1. Lists**\n",
        "**Tasks**:\n",
        "1. Create a list which contains the values 1 to 9. **Print out** the **length** of the list and compute the **sum** of the first and last entry. Use *indexing* to access these entries **[1.5]**\n",
        "2. Set the first entry of this list to 100 and append the value of 99 to the list. Again **print out** the **length** of this and compute the **sum** of the first and last entry by using *indexing*. **[1.5]**"
      ]
    },
    {
      "cell_type": "code",
      "metadata": {
        "id": "nkFkeVpTRmR5"
      },
      "source": [
        "# Create your list here\n",
        "ls  = [i for i in range(1,10)]"
      ],
      "execution_count": 6,
      "outputs": []
    },
    {
      "cell_type": "code",
      "metadata": {
        "id": "3kEOvSilRmR5"
      },
      "source": [
        "# Compute the length of the list\n",
        "size = len(ls)"
      ],
      "execution_count": 7,
      "outputs": []
    },
    {
      "cell_type": "code",
      "metadata": {
        "id": "CppLTmmsRmR5"
      },
      "source": [
        "# Compute the sum of the first and last entry by using indexing.\n",
        "summ = ls[0] + ls[-1]"
      ],
      "execution_count": 8,
      "outputs": []
    },
    {
      "cell_type": "code",
      "metadata": {
        "colab": {
          "base_uri": "https://localhost:8080/"
        },
        "id": "mve-2FOhRmR5",
        "outputId": "1403a83d-a333-4f3a-d8af-aa41bae84bc7"
      },
      "source": [
        "# Print out the length of the list this cell\n",
        "print(f\"length of the list: {size}\")"
      ],
      "execution_count": 9,
      "outputs": [
        {
          "output_type": "stream",
          "text": [
            "length of the list: 9\n"
          ],
          "name": "stdout"
        }
      ]
    },
    {
      "cell_type": "code",
      "metadata": {
        "colab": {
          "base_uri": "https://localhost:8080/"
        },
        "id": "zoHGkoXeRmR6",
        "outputId": "f10e45b9-7a46-4810-e6d5-29087b2f195c"
      },
      "source": [
        "# Print out the sum of first and last entry in this cell\n",
        "print(f\"sum of first and last entry: {summ}\")"
      ],
      "execution_count": 12,
      "outputs": [
        {
          "output_type": "stream",
          "text": [
            "sum of first and last entry: 10\n"
          ],
          "name": "stdout"
        }
      ]
    },
    {
      "cell_type": "code",
      "metadata": {
        "id": "mpE9JtAQRmR6"
      },
      "source": [
        "# Modify the elements of your list in this cell\n",
        "ls[0] = 100\n",
        "ls.append(int(99))"
      ],
      "execution_count": 13,
      "outputs": []
    },
    {
      "cell_type": "code",
      "metadata": {
        "id": "zqDB_eshRmR6"
      },
      "source": [
        "# Compute the length of the list\n",
        "size =  len(ls)"
      ],
      "execution_count": 14,
      "outputs": []
    },
    {
      "cell_type": "code",
      "metadata": {
        "id": "ZsngUHwlRmR7"
      },
      "source": [
        "# Compute the sum of the first and last entry by using indexing.\n",
        "summ = ls[0] + ls[-1]"
      ],
      "execution_count": 15,
      "outputs": []
    },
    {
      "cell_type": "code",
      "metadata": {
        "colab": {
          "base_uri": "https://localhost:8080/"
        },
        "id": "F-rNOWBiRmR7",
        "outputId": "2acd34cc-b9e3-4fe1-9392-5e3c65e30aef"
      },
      "source": [
        "# Print out the length of the list in this cell\n",
        "print(f\"length of the list: {size}\")"
      ],
      "execution_count": 16,
      "outputs": [
        {
          "output_type": "stream",
          "text": [
            "length of the list: 10\n"
          ],
          "name": "stdout"
        }
      ]
    },
    {
      "cell_type": "code",
      "metadata": {
        "colab": {
          "base_uri": "https://localhost:8080/"
        },
        "id": "vKAt3bNjRmR7",
        "outputId": "052c683b-323e-455c-e124-883a5c5c58e3"
      },
      "source": [
        "# Print out the sum of first and last entry in this cell\n",
        "print(f\"sum of first and last entry: {summ}\")"
      ],
      "execution_count": 17,
      "outputs": [
        {
          "output_type": "stream",
          "text": [
            "sum of first and last entry: 199\n"
          ],
          "name": "stdout"
        }
      ]
    },
    {
      "cell_type": "markdown",
      "metadata": {
        "id": "Wl_7_2kYRmR7"
      },
      "source": [
        "#### **B2. Tuples**\n",
        "\n",
        "**Task**:\n",
        "1. Create a tuple which contains the same values as the previously defined list. **[0.5]**\n",
        "2. Try to change the second element of this tuple to 77 and run the script. Describe which error occurs and why. Make sure to comment this line of code afterwards otherwise cells below will not be executed! **[1]**"
      ]
    },
    {
      "cell_type": "code",
      "metadata": {
        "colab": {
          "base_uri": "https://localhost:8080/"
        },
        "id": "jGM3pChPRmR8",
        "outputId": "8c87b7f2-3c0b-45ab-8caa-8412e56a6a7f"
      },
      "source": [
        "# Create the tuple in this cell\n",
        "tup = tuple(ls)\n",
        "\n",
        "print(tup)"
      ],
      "execution_count": 18,
      "outputs": [
        {
          "output_type": "stream",
          "text": [
            "(100, 2, 3, 4, 5, 6, 7, 8, 9, 99)\n"
          ],
          "name": "stdout"
        }
      ]
    },
    {
      "cell_type": "code",
      "metadata": {
        "id": "9Qyx0koFRmR8"
      },
      "source": [
        "# Try to change the 2nd element of this tuple\n",
        "#tup[1] = 101\n",
        "# First execute the code (Cell > Run All) and inspect the error.\n",
        "# Afterwards make sure to comment all code within this cell - otherwise cells below will not be executed!"
      ],
      "execution_count": 19,
      "outputs": []
    },
    {
      "cell_type": "markdown",
      "metadata": {
        "id": "pqZVOEdERmR8"
      },
      "source": [
        "Write your **answer** about which error occurs and why **here**:\n",
        "\n",
        "==> TypeError: 'tuple' object does not support item assignment.\n",
        "**A tuple object is immutable**"
      ]
    },
    {
      "cell_type": "markdown",
      "metadata": {
        "id": "DnrIYNjmRmR9"
      },
      "source": [
        "#### **B3. Dictionaries**\n",
        "\n",
        "**Tasks**:\n",
        "1. Create a dictionary which contains the following *key-value* pairs: *City* - *Bonn*, *Street* - *Nussallee*, *HouseNumber* - 15.<br /> Get the value of *HouseNumber* and **print it out**. **[1]**\n",
        "2. Add the key-value pair *LectureRoom* : *14* to this dictionary. Finally **print out** all **keys** and **values** of this dictionary. **[1.5]**"
      ]
    },
    {
      "cell_type": "code",
      "metadata": {
        "id": "i-uwJKOjRmR9"
      },
      "source": [
        "# Create the dictionary here\n",
        "dic = {\"City\":\"Bonn\",\"Street\":\"Nussalee\",\"HouseNumber\":\"15\"}"
      ],
      "execution_count": 20,
      "outputs": []
    },
    {
      "cell_type": "code",
      "metadata": {
        "colab": {
          "base_uri": "https://localhost:8080/"
        },
        "id": "7MprGLqtRmR9",
        "outputId": "3ff808fb-0bbd-460e-8a1f-7c78de23b001"
      },
      "source": [
        "# Get the value of 'HouseNumber' and print it in this cell\n",
        "val =  dic.get(\"HouseNumber\")\n",
        "print(val)"
      ],
      "execution_count": 21,
      "outputs": [
        {
          "output_type": "stream",
          "text": [
            "15\n"
          ],
          "name": "stdout"
        }
      ]
    },
    {
      "cell_type": "code",
      "metadata": {
        "id": "v_SodOTnRmR9"
      },
      "source": [
        "# Add key-value pair\n",
        "dic[\"LectureRoom\"] = \"14\""
      ],
      "execution_count": 25,
      "outputs": []
    },
    {
      "cell_type": "code",
      "metadata": {
        "colab": {
          "base_uri": "https://localhost:8080/"
        },
        "id": "_Ja_foIGRmR-",
        "outputId": "257722d6-ca36-4e9a-cea0-a12c4bef5da8"
      },
      "source": [
        "# Print out all keys of the dict\n",
        "print(dic.keys())"
      ],
      "execution_count": 23,
      "outputs": [
        {
          "output_type": "stream",
          "text": [
            "dict_keys(['City', 'Street', 'HouseNumber', 'LectureRoom'])\n"
          ],
          "name": "stdout"
        }
      ]
    },
    {
      "cell_type": "code",
      "metadata": {
        "colab": {
          "base_uri": "https://localhost:8080/"
        },
        "id": "kMt8xXNSRmR-",
        "outputId": "aa246ec5-2839-4b70-97bf-8ee5d0f8f9e4"
      },
      "source": [
        "# Print out all values of the dict\n",
        "print(dic.values())"
      ],
      "execution_count": 26,
      "outputs": [
        {
          "output_type": "stream",
          "text": [
            "dict_values(['Bonn', 'Nussalee', '15', '14'])\n"
          ],
          "name": "stdout"
        }
      ]
    },
    {
      "cell_type": "markdown",
      "metadata": {
        "id": "t87MU7pRRmR-"
      },
      "source": [
        "## **C. Conditionals and Loops [4]**"
      ]
    },
    {
      "cell_type": "markdown",
      "metadata": {
        "id": "8JkmKYa8RmR-"
      },
      "source": [
        "**Tasks:**\n",
        "1. You are given a list which contains multiple lists itself which we assign to the variable called *nested_list*. **Print out** the length of *nested_list* and write a *for loop* which **prints** the **length** of each individual list within the *nested_list*. **[2]**\n",
        "2. Sum up all entries in the nested list by using nested *for loops*. If a entry is equal to zero **print** the string *'Found zero element**. Finally **print out** the result of the **sum**. **[2]**"
      ]
    },
    {
      "cell_type": "code",
      "metadata": {
        "colab": {
          "base_uri": "https://localhost:8080/"
        },
        "id": "4XXqRHtuRmR_",
        "outputId": "d9d4a3ee-1eaa-42ec-8969-eb2d6abc2559"
      },
      "source": [
        "# Python is picky with tabs! All code you want to run within a loop or condition needs to be indented by 4 spaces.\n",
        "# In case the loop or condition in nested within another loop or condition it needs to be indented by \n",
        "# 8 spaces and so on.\n",
        "\n",
        "# Example\n",
        "for i in range(1):\n",
        "    print(i)             # -> 4 spaces before the print statement\n",
        "    for j in range(1):   # -> 4 spaces before for begins\n",
        "        print(j)         # -> 8 spaces before the print statement"
      ],
      "execution_count": 27,
      "outputs": [
        {
          "output_type": "stream",
          "text": [
            "0\n",
            "0\n"
          ],
          "name": "stdout"
        }
      ]
    },
    {
      "cell_type": "code",
      "metadata": {
        "id": "nVm7DLX1RmR_"
      },
      "source": [
        "# You are a given a nested list\n",
        "nested_list = [[1,2,3,0],\n",
        "               [4,5,0,6, 5],\n",
        "               [7,0,9,0,10, -10]]"
      ],
      "execution_count": 28,
      "outputs": []
    },
    {
      "cell_type": "code",
      "metadata": {
        "colab": {
          "base_uri": "https://localhost:8080/"
        },
        "id": "A9u0-97GRmSA",
        "outputId": "7d27f93b-5e9a-4c6d-826e-6568328b62e7"
      },
      "source": [
        "# Print out the length of nested_list in this cell\n",
        "print(len(nested_list))"
      ],
      "execution_count": 29,
      "outputs": [
        {
          "output_type": "stream",
          "text": [
            "3\n"
          ],
          "name": "stdout"
        }
      ]
    },
    {
      "cell_type": "code",
      "metadata": {
        "colab": {
          "base_uri": "https://localhost:8080/"
        },
        "id": "9sh-F1k_RmSA",
        "outputId": "26b89034-45eb-4ddf-e690-c839c574022e"
      },
      "source": [
        "# Write the code to print the length of each individual list within the nested_list in this cell by using a loop\n",
        "for i in range(len(nested_list)):\n",
        "    print(len(nested_list[i]))"
      ],
      "execution_count": 31,
      "outputs": [
        {
          "output_type": "stream",
          "text": [
            "4\n",
            "5\n",
            "6\n"
          ],
          "name": "stdout"
        }
      ]
    },
    {
      "cell_type": "code",
      "metadata": {
        "id": "D7I5QnH2RmSA"
      },
      "source": [
        "# Write the code to sum up all entries in nested_list in this cell\n",
        "summ = 0\n",
        "\n",
        "for i in range(len(nested_list)):\n",
        "    for j in range(len(nested_list[i])):\n",
        "        summ += nested_list[i][j]"
      ],
      "execution_count": 32,
      "outputs": []
    },
    {
      "cell_type": "code",
      "metadata": {
        "colab": {
          "base_uri": "https://localhost:8080/"
        },
        "id": "cJTSwXhERmSA",
        "outputId": "6a8eaeb6-ca28-4d57-bbbd-b55279f693e7"
      },
      "source": [
        "# Print out the result of the sum in this cell\n",
        "print(f\"Sum of elements in nested list: {summ}\")"
      ],
      "execution_count": 34,
      "outputs": [
        {
          "output_type": "stream",
          "text": [
            "Sum of elements in nested list: 42\n"
          ],
          "name": "stdout"
        }
      ]
    },
    {
      "cell_type": "markdown",
      "metadata": {
        "id": "KW4dCwSdRmSB"
      },
      "source": [
        "## **D. Functions [3]**\n",
        "Functions can help you to organize and structure your code, while keeping the effort for redundant tasks low. For an even better organization (especially for bigger projects), it usually makes sense to distribute parts of your code to multiple files (so called modules). \n",
        "\n",
        "**Hint:** Whenever you have to write the same code at least twice: make a function for it!"
      ]
    },
    {
      "cell_type": "markdown",
      "metadata": {
        "id": "rm2zTcccRmSB"
      },
      "source": [
        "**Tasks**:\n",
        "1. Create a python file 'utilities.py'. Write in there a function called ```sum_nested_list(...)``` which takes as input parameter a nested list and returns the sum of all entries **[2]**\n",
        "2. Import the the previously created module and pass the given variable *another_nested_list* to your function and **print** the **result**. **[1]**"
      ]
    },
    {
      "cell_type": "code",
      "metadata": {
        "id": "NOq1LoZgRmSB"
      },
      "source": [
        "# Given variable another_nested_list \n",
        "another_nested_list = [[22, -22, 33], [-33, 44, 55], [-55, -44, 1, -2]]"
      ],
      "execution_count": 35,
      "outputs": []
    },
    {
      "cell_type": "markdown",
      "metadata": {
        "id": "VgVwhtTtdWfL"
      },
      "source": [
        "**Pasting the utilities.py file content**\n",
        "\n",
        "```\n",
        "from typing import List\n",
        "\n",
        "def sum_nested_list(nested_list: List):\n",
        "    summ = 0\n",
        "\n",
        "    for i in range(len(nested_list)):\n",
        "        for j in range(len(nested_list[i])):\n",
        "            summ += nested_list[i][j] \n",
        "    \n",
        "    return summ\n",
        "``` "
      ]
    },
    {
      "cell_type": "code",
      "metadata": {
        "id": "jHNJz9T6RmSC"
      },
      "source": [
        "# Call your function here\n",
        "from utilities import sum_nested_list"
      ],
      "execution_count": 37,
      "outputs": []
    },
    {
      "cell_type": "code",
      "metadata": {
        "colab": {
          "base_uri": "https://localhost:8080/"
        },
        "id": "pbJLsQeCRmSC",
        "outputId": "88b09655-042a-4b8d-84c4-39e17f6b02df"
      },
      "source": [
        "# Print out the sum of all entries here\n",
        "summ = sum_nested_list(another_nested_list)\n",
        "\n",
        "print(summ)"
      ],
      "execution_count": 38,
      "outputs": [
        {
          "output_type": "stream",
          "text": [
            "-1\n"
          ],
          "name": "stdout"
        }
      ]
    },
    {
      "cell_type": "markdown",
      "metadata": {
        "id": "HSWTcaYyRmSC"
      },
      "source": [
        "## **E. Numpy [16.5]**\n",
        "#### **E1. Initialization**\n",
        "Numpy is the most used module for numerical applications in python. It handles matrices very efficiently and has a big library for linear algebra.\n",
        "<br>**Tasks:**\n",
        "1. import numpy **[0.5]**\n",
        "2. create and print a ... **[1]**\n",
        "   - ... 3x4 matrix with zeros\n",
        "   - ... 4x3x3 matrix with ones\n",
        "   - ... 3x3 identity matrix\n",
        "   - ... array with the values from 0 to 4 (integer)"
      ]
    },
    {
      "cell_type": "code",
      "metadata": {
        "id": "j_qWeOgYRmSC"
      },
      "source": [
        "# Import numpy here as np\n",
        "import numpy as np"
      ],
      "execution_count": 39,
      "outputs": []
    },
    {
      "cell_type": "code",
      "metadata": {
        "colab": {
          "base_uri": "https://localhost:8080/"
        },
        "id": "_fhP9T7aRmSC",
        "outputId": "1277cd60-140f-45da-a014-e95c9fbf57af"
      },
      "source": [
        "# Zero matrix\n",
        "zeros = np.zeros((3,4))\n",
        "print(zeros)"
      ],
      "execution_count": 40,
      "outputs": [
        {
          "output_type": "stream",
          "text": [
            "[[0. 0. 0. 0.]\n",
            " [0. 0. 0. 0.]\n",
            " [0. 0. 0. 0.]]\n"
          ],
          "name": "stdout"
        }
      ]
    },
    {
      "cell_type": "code",
      "metadata": {
        "colab": {
          "base_uri": "https://localhost:8080/"
        },
        "id": "xBwKTKrdRmSD",
        "outputId": "172740d8-ed36-420a-afbb-bccad5cd7208"
      },
      "source": [
        "# Ones: 3 dimensional matrix\n",
        "ones = np.ones((3,4,3))\n",
        "print(ones)"
      ],
      "execution_count": 44,
      "outputs": [
        {
          "output_type": "stream",
          "text": [
            "[[[1. 1. 1.]\n",
            "  [1. 1. 1.]\n",
            "  [1. 1. 1.]\n",
            "  [1. 1. 1.]]\n",
            "\n",
            " [[1. 1. 1.]\n",
            "  [1. 1. 1.]\n",
            "  [1. 1. 1.]\n",
            "  [1. 1. 1.]]\n",
            "\n",
            " [[1. 1. 1.]\n",
            "  [1. 1. 1.]\n",
            "  [1. 1. 1.]\n",
            "  [1. 1. 1.]]]\n"
          ],
          "name": "stdout"
        }
      ]
    },
    {
      "cell_type": "code",
      "metadata": {
        "colab": {
          "base_uri": "https://localhost:8080/"
        },
        "id": "ksA5pHPZRmSD",
        "outputId": "2f423ac9-a870-47f0-e322-0c2fc0b5fab8"
      },
      "source": [
        "# Identity Matrix\n",
        "idn = np.identity(3)\n",
        "print(idn)"
      ],
      "execution_count": 42,
      "outputs": [
        {
          "output_type": "stream",
          "text": [
            "[[1. 0. 0.]\n",
            " [0. 1. 0.]\n",
            " [0. 0. 1.]]\n"
          ],
          "name": "stdout"
        }
      ]
    },
    {
      "cell_type": "code",
      "metadata": {
        "colab": {
          "base_uri": "https://localhost:8080/"
        },
        "id": "nr6AHDVuRmSD",
        "outputId": "8585469a-1bd3-4d70-83ca-fd25b887d445"
      },
      "source": [
        "# arange\n",
        "arr = np.arange(5)\n",
        "print(arr)"
      ],
      "execution_count": 43,
      "outputs": [
        {
          "output_type": "stream",
          "text": [
            "[0 1 2 3 4]\n"
          ],
          "name": "stdout"
        }
      ]
    },
    {
      "cell_type": "markdown",
      "metadata": {
        "id": "0jBifnjIRmSD"
      },
      "source": [
        "#### **E2. Random numbers**\n",
        "\n",
        "Random sampling is essential in probabilistic robotics theory.\n",
        "\n",
        "**Tasks:**\n",
        "1. Randomly sample 1000 values according to a **uninform distribution** defined in the range between -10 and 10.  **[0.5]**\n",
        "2. Randomly sample 1000 values according to a **normal distribution** with mean 0 and standard deviation 3. **[0.5]**\n",
        "3. Plot histograms of the sampled values for both sets of values. **Hint:** Use matplotlib for the visualization. See *matplotlib.pyplot.hist*. **[1]**"
      ]
    },
    {
      "cell_type": "code",
      "metadata": {
        "id": "9fZpKqG2RmSE"
      },
      "source": [
        "# Uniform sampling\n",
        "rand_uni = np.random.uniform(-10,10,1000)"
      ],
      "execution_count": 45,
      "outputs": []
    },
    {
      "cell_type": "code",
      "metadata": {
        "id": "QKgTx58dRmSE"
      },
      "source": [
        "# Normal distributed sampling\n",
        "rand_nor = np.random.normal(0,3,1000)"
      ],
      "execution_count": 46,
      "outputs": []
    },
    {
      "cell_type": "code",
      "metadata": {
        "colab": {
          "base_uri": "https://localhost:8080/",
          "height": 517
        },
        "id": "ruw9jhtGRmSE",
        "outputId": "d04745e3-0eed-4fb4-f1b1-de6c7d05b8b1"
      },
      "source": [
        "# Visualization\n",
        "import matplotlib\n",
        "import matplotlib.pyplot as plt\n",
        "\n",
        "plt.hist(rand_uni)\n",
        "plt.show()\n",
        "plt.hist(rand_nor)\n",
        "plt.show()"
      ],
      "execution_count": 47,
      "outputs": [
        {
          "output_type": "display_data",
          "data": {
            "image/png": "[encoded data removed]",
            "text/plain": [
              "<Figure size 432x288 with 1 Axes>"
            ]
          },
          "metadata": {
            "tags": [],
            "needs_background": "light"
          }
        },
        {
          "output_type": "display_data",
          "data": {
            "image/png": "[encoded data removed]",
            "text/plain": [
              "<Figure size 432x288 with 1 Axes>"
            ]
          },
          "metadata": {
            "tags": [],
            "needs_background": "light"
          }
        }
      ]
    },
    {
      "cell_type": "markdown",
      "metadata": {
        "id": "dA3ma39eRmSE"
      },
      "source": [
        "4. Compute and print mean and standard deviations for both sets of values."
      ]
    },
    {
      "cell_type": "code",
      "metadata": {
        "colab": {
          "base_uri": "https://localhost:8080/"
        },
        "id": "Ct6SfGGfRmSE",
        "outputId": "f4ff10de-f9a0-4c08-9c4a-548941ab38ee"
      },
      "source": [
        "# uniform\n",
        "print(f\"Uniform Standard Deviation: {np.std(rand_uni)}\")\n",
        "print(f\"Uniform Mean: {np.mean(rand_uni)}\")\n",
        "\n",
        "# normal\n",
        "print(f\"Normal Standard Deviation: {np.std(rand_nor)}\")\n",
        "print(f\"Normal Mean: {np.mean(rand_nor)}\")"
      ],
      "execution_count": 50,
      "outputs": [
        {
          "output_type": "stream",
          "text": [
            "Uniform Standard Deviation: 5.766905919252697\n",
            "Uniform Mean: -0.04405338975640923\n",
            "Normal Standard Deviation: 3.039665497524387\n",
            "Normal Mean: 0.0792982348946494\n"
          ],
          "name": "stdout"
        }
      ]
    },
    {
      "cell_type": "markdown",
      "metadata": {
        "id": "n72WOZdORmSF"
      },
      "source": [
        "#### **E3. Images: Cube Slicing**\n",
        "Images are one of the most important data types in photogrammetry, so that the handling of these should feel quite familiar to you.\n",
        "An image in python is typically represented as a 3 dimensional numpy array *(rows, cols, channel)*. We will use matplotlib for the visualization and skimage for reading and writing to disk. "
      ]
    },
    {
      "cell_type": "markdown",
      "metadata": {
        "id": "Z3Dvbnd7RmSF"
      },
      "source": [
        "**Tasks:**\n",
        "1. Load and visualize the image: *data/cube.jpg*, **Hint:** use ```skimage.io.imread(...)``` for loading the image, and ```plt.imshow()``` for plotting. **[1]**\n",
        "2. print the shape of the image as well as the underlying data type. **[0.5]**\n",
        "3. create two variables which hold the left and the right half of the image, respectively. Make sure that both parts have the same size and plot both images. **Hint:** use subplots. **[1]**\n",
        "4. flip the right image along a vertical axis, plot the result. **[1]**\n",
        "5. Convert the left and the right flipped image to float for later computations. **[0.5]**\n",
        "6. Compute the absolute difference between the left and the right flipped image. **[0.5]**\n",
        "7. Convert the difference image back to uint8, visualize the resulting image. What can you see? Explain the colors you can see. **[3]**"
      ]
    },
    {
      "cell_type": "code",
      "metadata": {
        "id": "F7cD3YkiRmSF"
      },
      "source": [
        "# Import necessary modules here:\n",
        "from skimage import io\n",
        "from skimage.util import compare_images"
      ],
      "execution_count": 51,
      "outputs": []
    },
    {
      "cell_type": "code",
      "metadata": {
        "colab": {
          "base_uri": "https://localhost:8080/",
          "height": 286
        },
        "id": "mhaISJBJRmSF",
        "outputId": "225a852d-ce70-4de1-dca9-aacc1157b763"
      },
      "source": [
        "# Load and visualize image\n",
        "img = io.imread(\"data/cube.jpg\")\n",
        "plt.imshow(img)"
      ],
      "execution_count": 53,
      "outputs": [
        {
          "output_type": "execute_result",
          "data": {
            "text/plain": [
              "<matplotlib.image.AxesImage at 0x7f9514ad8610>"
            ]
          },
          "metadata": {
            "tags": []
          },
          "execution_count": 53
        },
        {
          "output_type": "display_data",
          "data": {
            "image/png": "[encoded data removed]",
            "text/plain": [
              "<Figure size 432x288 with 1 Axes>"
            ]
          },
          "metadata": {
            "tags": [],
            "needs_background": "light"
          }
        }
      ]
    },
    {
      "cell_type": "code",
      "metadata": {
        "colab": {
          "base_uri": "https://localhost:8080/"
        },
        "id": "afk7sIhmRmSG",
        "outputId": "f7a9b7e1-b7ce-460c-ae35-cd5c4498d646"
      },
      "source": [
        "# print the shape and underlying data type\n",
        "print(\"Shape: \",img.shape,\"Data Type :\",type(img))"
      ],
      "execution_count": 54,
      "outputs": [
        {
          "output_type": "stream",
          "text": [
            "Shape:  (950, 950, 3) Data Type : <class 'numpy.ndarray'>\n"
          ],
          "name": "stdout"
        }
      ]
    },
    {
      "cell_type": "code",
      "metadata": {
        "colab": {
          "base_uri": "https://localhost:8080/"
        },
        "id": "vDrgvvp0RmSG",
        "outputId": "0adbaa03-3daf-4f95-e3fb-79ddc3451420"
      },
      "source": [
        "# Split image in left and right half:\n",
        "img_left = img[:,:475,:]\n",
        "img_right = img[:,475:,:]\n",
        "\n",
        "# print shapes:\n",
        "print(img_left.shape, img_right.shape)"
      ],
      "execution_count": 55,
      "outputs": [
        {
          "output_type": "stream",
          "text": [
            "(950, 475, 3) (950, 475, 3)\n"
          ],
          "name": "stdout"
        }
      ]
    },
    {
      "cell_type": "code",
      "metadata": {
        "colab": {
          "base_uri": "https://localhost:8080/",
          "height": 298
        },
        "id": "9nmHsmoyRmSG",
        "outputId": "92b97a98-b670-43e4-c337-0f742c63083a"
      },
      "source": [
        "# Plotting left and right image\n",
        "fig,a= plt.subplots(1,2)\n",
        "\n",
        "a[0].set_title(\"Left Image\")\n",
        "a[0].imshow(img_left)\n",
        "\n",
        "a[1].set_title(\"Right Image\")\n",
        "a[1].imshow(img_right)"
      ],
      "execution_count": 56,
      "outputs": [
        {
          "output_type": "execute_result",
          "data": {
            "text/plain": [
              "<matplotlib.image.AxesImage at 0x7f950a6dbd50>"
            ]
          },
          "metadata": {
            "tags": []
          },
          "execution_count": 56
        },
        {
          "output_type": "display_data",
          "data": {
            "image/png": "[encoded data removed]",
            "text/plain": [
              "<Figure size 432x288 with 2 Axes>"
            ]
          },
          "metadata": {
            "tags": [],
            "needs_background": "light"
          }
        }
      ]
    },
    {
      "cell_type": "code",
      "metadata": {
        "colab": {
          "base_uri": "https://localhost:8080/",
          "height": 286
        },
        "id": "FdBQBHA5RmSG",
        "outputId": "338cb852-8865-48e4-eeb4-5390f8d3f3df"
      },
      "source": [
        "# flip right image and plot the result:\n",
        "img_flip_right =  np.flip(img_right, axis=1)\n",
        "plt.imshow(img_flip_right)"
      ],
      "execution_count": 60,
      "outputs": [
        {
          "output_type": "execute_result",
          "data": {
            "text/plain": [
              "<matplotlib.image.AxesImage at 0x7f950a6586d0>"
            ]
          },
          "metadata": {
            "tags": []
          },
          "execution_count": 60
        },
        {
          "output_type": "display_data",
          "data": {
            "image/png": "[encoded data removed]",
            "text/plain": [
              "<Figure size 432x288 with 1 Axes>"
            ]
          },
          "metadata": {
            "tags": [],
            "needs_background": "light"
          }
        }
      ]
    },
    {
      "cell_type": "code",
      "metadata": {
        "colab": {
          "base_uri": "https://localhost:8080/"
        },
        "id": "3WpbDzKyRmSG",
        "outputId": "81142615-1a0c-4ab2-895e-261f16922b7a"
      },
      "source": [
        "# Convert to float \n",
        "img_left.astype(float)\n",
        "img_flip_right.astype(float)"
      ],
      "execution_count": 61,
      "outputs": [
        {
          "output_type": "execute_result",
          "data": {
            "text/plain": [
              "array([[[255., 255., 255.],\n",
              "        [255., 255., 255.],\n",
              "        [255., 255., 255.],\n",
              "        ...,\n",
              "        [255., 255., 255.],\n",
              "        [255., 255., 255.],\n",
              "        [255., 255., 255.]],\n",
              "\n",
              "       [[255., 255., 255.],\n",
              "        [255., 255., 255.],\n",
              "        [255., 255., 255.],\n",
              "        ...,\n",
              "        [255., 255., 255.],\n",
              "        [255., 255., 255.],\n",
              "        [255., 255., 255.]],\n",
              "\n",
              "       [[255., 255., 255.],\n",
              "        [255., 255., 255.],\n",
              "        [255., 255., 255.],\n",
              "        ...,\n",
              "        [255., 255., 255.],\n",
              "        [255., 255., 255.],\n",
              "        [255., 255., 255.]],\n",
              "\n",
              "       ...,\n",
              "\n",
              "       [[255., 255., 255.],\n",
              "        [255., 255., 255.],\n",
              "        [255., 255., 255.],\n",
              "        ...,\n",
              "        [255., 255., 255.],\n",
              "        [255., 255., 255.],\n",
              "        [255., 255., 255.]],\n",
              "\n",
              "       [[255., 255., 255.],\n",
              "        [255., 255., 255.],\n",
              "        [255., 255., 255.],\n",
              "        ...,\n",
              "        [255., 255., 255.],\n",
              "        [255., 255., 255.],\n",
              "        [255., 255., 255.]],\n",
              "\n",
              "       [[255., 255., 255.],\n",
              "        [255., 255., 255.],\n",
              "        [255., 255., 255.],\n",
              "        ...,\n",
              "        [255., 255., 255.],\n",
              "        [255., 255., 255.],\n",
              "        [255., 255., 255.]]])"
            ]
          },
          "metadata": {
            "tags": []
          },
          "execution_count": 61
        }
      ]
    },
    {
      "cell_type": "code",
      "metadata": {
        "id": "vEPYbI5aRmSH"
      },
      "source": [
        "# compute difference here:\n",
        "img_diff = compare_images(img_left, img_flip_right, method='diff')"
      ],
      "execution_count": 62,
      "outputs": []
    },
    {
      "cell_type": "code",
      "metadata": {
        "colab": {
          "base_uri": "https://localhost:8080/",
          "height": 286
        },
        "id": "ObteFm0rRmSH",
        "outputId": "11ea6d48-62e6-47d6-9d1f-6a798980b6d7"
      },
      "source": [
        "# Convert to uint8:\n",
        "img_diff.astype(dtype='uint8')\n",
        "\n",
        "# Plot differences:\n",
        "plt.imshow(img_diff)"
      ],
      "execution_count": 63,
      "outputs": [
        {
          "output_type": "execute_result",
          "data": {
            "text/plain": [
              "<matplotlib.image.AxesImage at 0x7f950a63a1d0>"
            ]
          },
          "metadata": {
            "tags": []
          },
          "execution_count": 63
        },
        {
          "output_type": "display_data",
          "data": {
            "image/png": "[encoded data removed]",
            "text/plain": [
              "<Figure size 432x288 with 1 Axes>"
            ]
          },
          "metadata": {
            "tags": [],
            "needs_background": "light"
          }
        }
      ]
    },
    {
      "cell_type": "markdown",
      "metadata": {
        "id": "CHi996DsRmSH"
      },
      "source": [
        "7. Write your answer here:\n",
        "==> Each color represents different intensity value assigned as we take difference between two images.\n"
      ]
    },
    {
      "cell_type": "markdown",
      "metadata": {
        "id": "Ryf2ZEyXRmSH"
      },
      "source": [
        "#### **E4. Point Transformation** \n",
        "Point clouds are a common data type in various areas (surveying, photogrammetry, data analysis...). \n",
        "In the following we have given an L-shaped point cloud [2xn] (*n=200*), on which we want to apply some transformations and visualize the results with matplotlib. \n",
        "\n",
        "**Tasks:**\n",
        "1. Visualize the point cloud. **[0.5]**\n",
        "1. Write a function angle2rotMat(...) that returns the rotation matrix [2x2] for a given rotation angle (in degree). **[0.5]**\n",
        "2. Write for the function a header which describes what the function is doing, as well as the input and output parameter. **[0.5]**\n",
        "3. Create the 2 rotation matrices *R1* and *R2*: the first with an angle of 30[degree] and the second with an angle of 60[degree]. Print both matrices. **[0.5]**\n",
        "4. Rotate the given point cloud by *R1* and save the result in *points_r1*. Be aware of the difference between a matrix multiplication and an elementwise multiplication. **[0.5]**\n",
        "5. Rotate *points_r1* by *R2* and save the result in *points_r2*. **[0.5]**\n",
        "6. Shift points_r2 by the *translation=(3,4)^T* and save the result in *points_t*. **[0.5]**\n",
        "7. Create a figure with 4 subplots. Plot *points*, *points_r1*, *points_r2* and *points_t* in the created subplots, respectively. **[2]**"
      ]
    },
    {
      "cell_type": "code",
      "metadata": {
        "colab": {
          "base_uri": "https://localhost:8080/"
        },
        "id": "v-Tgkb5eRmSI",
        "outputId": "a5004320-115b-47ee-f782-774949b1334b"
      },
      "source": [
        "# generating an L-shaped point cloud.\n",
        "import numpy as np\n",
        "np.random.seed(0) # For reproducable results\n",
        "points = np.hstack([np.array([[5,0.5]]).T* np.random.rand(2,100), np.array([[0.5,5]]).T*np.random.rand(2,100)])\n",
        "print('Point cloud dimension:',points.shape)"
      ],
      "execution_count": 65,
      "outputs": [
        {
          "output_type": "stream",
          "text": [
            "Point cloud dimension: (2, 200)\n"
          ],
          "name": "stdout"
        }
      ]
    },
    {
      "cell_type": "code",
      "metadata": {
        "colab": {
          "base_uri": "https://localhost:8080/",
          "height": 268
        },
        "id": "tw1TjZImRmSI",
        "outputId": "07fdcba2-42ad-42d4-a355-d933c3493da9"
      },
      "source": [
        "# Plot points here\n",
        "plt.plot(points[0,:], points[1,:], 'ro')\n",
        "plt.show()"
      ],
      "execution_count": 66,
      "outputs": [
        {
          "output_type": "display_data",
          "data": {
            "image/png": "[encoded data removed]",
            "text/plain": [
              "<Figure size 432x288 with 1 Axes>"
            ]
          },
          "metadata": {
            "tags": [],
            "needs_background": "light"
          }
        }
      ]
    },
    {
      "cell_type": "code",
      "metadata": {
        "id": "hgr9TP6pRmSI"
      },
      "source": [
        "# write angle2rotMat(...):\n",
        "import math\n",
        "\n",
        "def angle2rotMat(angle):\n",
        "\n",
        "  rotMat = np.array([[math.cos(math.radians(angle)),-(math.sin(math.radians(angle)))],\n",
        "                     [math.sin(math.radians(angle)), math.cos(math.radians(angle))]])\n",
        "\n",
        "  return rotMat"
      ],
      "execution_count": 70,
      "outputs": []
    },
    {
      "cell_type": "code",
      "metadata": {
        "colab": {
          "base_uri": "https://localhost:8080/"
        },
        "id": "2wJHKlu5RmSJ",
        "outputId": "21f1f0dc-7317-483f-808d-9e6fa3712009"
      },
      "source": [
        "# create rotation matrices\n",
        "R1 = angle2rotMat(30)\n",
        "R2 = angle2rotMat(60)\n",
        "\n",
        "print(f\"R1: {R1}\")\n",
        "print(f\"R2: {R2}\")"
      ],
      "execution_count": 71,
      "outputs": [
        {
          "output_type": "stream",
          "text": [
            "R1: [[ 0.8660254 -0.5      ]\n",
            " [ 0.5        0.8660254]]\n",
            "R2: [[ 0.5       -0.8660254]\n",
            " [ 0.8660254  0.5      ]]\n"
          ],
          "name": "stdout"
        }
      ]
    },
    {
      "cell_type": "code",
      "metadata": {
        "colab": {
          "base_uri": "https://localhost:8080/"
        },
        "id": "w-ABHcSQRmSJ",
        "outputId": "97c64c19-827a-4686-9f9a-200a759167f1"
      },
      "source": [
        "# create translation vector\n",
        "T1 = np.array([[3,4]])\n",
        "\n",
        "# apply Transformations \n",
        "points_r1 = np.dot(R1, points)\n",
        "points_r2 = np.dot(R2, points_r1)\n",
        "points_t = np.add(points_r2.transpose(), T1)\n",
        "\n",
        "print(points_t.shape)"
      ],
      "execution_count": 72,
      "outputs": [
        {
          "output_type": "stream",
          "text": [
            "(200, 2)\n"
          ],
          "name": "stdout"
        }
      ]
    },
    {
      "cell_type": "code",
      "metadata": {
        "colab": {
          "base_uri": "https://localhost:8080/",
          "height": 297
        },
        "id": "9z9Lw0caRmSJ",
        "outputId": "3f1bf269-3266-4dca-81ae-a090ca0f4003"
      },
      "source": [
        "# create subplots and plot results\n",
        "fig, a= plt.subplots(2,2)\n",
        "\n",
        "\n",
        "a[0][0].set_title(\"Original Points\")\n",
        "a[0][0].plot(points[0,:], points[1,:], 'ro')\n",
        "\n",
        "a[0][1].set_title(\"After R1 transformation\")\n",
        "a[0][1].plot(points_r1[0,:],points_r1[1,:],\"ro\")\n",
        "\n",
        "a[1][0].set_title(\"After R2 transformation\")\n",
        "a[1][0].plot(points_r2[0,:],points_r2[1,:],\"ro\")\n",
        "\n",
        "a[1][1].set_title(\"After R1 and R2 transformation and T1 translation\")\n",
        "a[1][1].plot(points_t[:,0],points_t[:,1],\"ro\")\n",
        "\n",
        "plt.tight_layout()\n",
        "plt.show()"
      ],
      "execution_count": 80,
      "outputs": [
        {
          "output_type": "display_data",
          "data": {
            "image/png": "[encoded data removed]",
            "text/plain": [
              "<Figure size 432x288 with 4 Axes>"
            ]
          },
          "metadata": {
            "tags": [],
            "needs_background": "light"
          }
        }
      ]
    },
    {
      "cell_type": "markdown",
      "metadata": {
        "id": "Qk2HMHGSRmSJ"
      },
      "source": [
        "## **F. Robotic Applications [7.5]**\n",
        "#### **F1. Plot trajectory**"
      ]
    },
    {
      "cell_type": "markdown",
      "metadata": {
        "id": "KDlluR4rRmSK"
      },
      "source": [
        "**Tasks:**\n",
        "1. Read robot's odometry data from **odom.data** file. **[0.5]**\n",
        "    - Measurements are stored in rows in the following format: \n",
        "        [*hours*, *minutes*, *seconds*, $\\delta x_i$, $\\delta y_i$], \n",
        "        where *hours*, *minutes*, *seconds* indicate the time when the measurement was acquired. \n",
        "    - The first row contains the first position of the robot in world coordinates ($x_0$, $y_0$).\n",
        "2. Plot the trajectory of the robot in world coordinates. **[2]**\n",
        "    - The trajectory is computed by iteratively applying the measured odometry to the previous position:\n",
        "$$ x_{i+1} = x_{i} + \\delta x_{i},\\qquad y_{i+1} = y_{i} + \\delta y_{i}$$\n",
        "3. Plot the trajectory of the robot in world coordinates from 07:30:00 to 8:00:00. **[1]**"
      ]
    },
    {
      "cell_type": "code",
      "metadata": {
        "id": "uP02SIoYRmSK"
      },
      "source": [
        "# 1.\n",
        "filename = \"data/odom.data\"\n",
        "f = open(filename,\"r\")\n",
        "f1 = f.readlines()\n",
        "\n",
        "x0 = f1[0].split(\",\")[3]\n",
        "y0 = f1[0].split(\",\")[4]"
      ],
      "execution_count": 81,
      "outputs": []
    },
    {
      "cell_type": "code",
      "metadata": {
        "colab": {
          "base_uri": "https://localhost:8080/",
          "height": 282
        },
        "id": "bSaIUgJbRmSK",
        "outputId": "40efd657-226c-4bcf-b8e6-8f98ae4cd4ef"
      },
      "source": [
        "# 2.\n",
        "X = []\n",
        "Y = []\n",
        "\n",
        "x = float(x0)\n",
        "y = float(y0)\n",
        "count = 0\n",
        "\n",
        "for lines in f1[1:]:\n",
        "    line = lines.split(\",\")\n",
        "    x = x + float(line[3])\n",
        "    y = y + float(line[4])\n",
        "    X.append(x)\n",
        "    Y.append(y)\n",
        "\n",
        "plt.plot(X,Y,\"ro\")\n",
        "print(x,y)"
      ],
      "execution_count": 82,
      "outputs": [
        {
          "output_type": "stream",
          "text": [
            "197.884812 353.595486\n"
          ],
          "name": "stdout"
        },
        {
          "output_type": "display_data",
          "data": {
            "image/png": "[encoded data removed]",
            "text/plain": [
              "<Figure size 432x288 with 1 Axes>"
            ]
          },
          "metadata": {
            "tags": [],
            "needs_background": "light"
          }
        }
      ]
    },
    {
      "cell_type": "code",
      "metadata": {
        "colab": {
          "base_uri": "https://localhost:8080/",
          "height": 285
        },
        "id": "neSj2n1ORmSK",
        "outputId": "60aa32e8-db50-445b-826b-77112e5c30ee"
      },
      "source": [
        "# 3.\n",
        "X_alt = []\n",
        "Y_alt = []\n",
        "\n",
        "\n",
        "x_alt = float(x0)\n",
        "y_alt = float(y0)\n",
        "\n",
        "for lines in f1[1:]:\n",
        "    line =  lines.split(\",\")\n",
        "    x_alt = x_alt + float(line[3])\n",
        "    y_alt = y_alt + float(line[4])\n",
        "\n",
        "    if float(line[0]) == 7.0 and float(line[1]) >= 30.0:\n",
        "        X_alt.append(x_alt)\n",
        "        Y_alt.append(y_alt)\n",
        "\n",
        "    elif float(line[0]) == 8.0:\n",
        "        X_alt.append(x_alt)\n",
        "        Y_alt.append(y_alt)\n",
        "        break;\n",
        "\n",
        "plt.plot(X_alt,Y_alt,\"ro\")"
      ],
      "execution_count": 86,
      "outputs": [
        {
          "output_type": "execute_result",
          "data": {
            "text/plain": [
              "[<matplotlib.lines.Line2D at 0x7f94fd979410>]"
            ]
          },
          "metadata": {
            "tags": []
          },
          "execution_count": 86
        },
        {
          "output_type": "display_data",
          "data": {
            "image/png": "[encoded data removed]",
            "text/plain": [
              "<Figure size 432x288 with 1 Axes>"
            ]
          },
          "metadata": {
            "tags": [],
            "needs_background": "light"
          }
        }
      ]
    },
    {
      "cell_type": "markdown",
      "metadata": {
        "id": "VonHjeTnRmSK"
      },
      "source": [
        "#### **F2. Robot navigation in grid world**\n",
        "Lets assume we have given a robot which is moving in a 2D grid world. We want to visualize the parts of the map which got explored by the robot."
      ]
    },
    {
      "cell_type": "markdown",
      "metadata": {
        "id": "VVSjCPhdRmSL"
      },
      "source": [
        "**Tasks:**\n",
        "1. Generate a 5x5 grid world by using a numpy matrix where each cell is initially zero. **[0.5]**\n",
        "2. A point robot navigates on this grid world starting from cell (0,0) that is in the top-left corner of the grid. Implement the navigation actions of the robot and execute the following sequence of commands: *down*, *right*, *up*, *up*, *right*, *right*, *down*, *down*, *down*, *left*. Print the final position of the robot. **[3.0]**\n",
        "3. Mark the cells visited by the robot in 2. on the grid world by setting their value to $1$ and plot the grid world by using `matplotlib`. **[1.5]**"
      ]
    },
    {
      "cell_type": "code",
      "metadata": {
        "id": "UrSn4zA1RmSL"
      },
      "source": [
        "# 1.\n",
        "world = np.zeros((5,5))"
      ],
      "execution_count": 88,
      "outputs": []
    },
    {
      "cell_type": "code",
      "metadata": {
        "colab": {
          "base_uri": "https://localhost:8080/"
        },
        "id": "Iwx6kTO5RmSL",
        "outputId": "48f2c01a-3f98-442f-92a1-99856013229e"
      },
      "source": [
        "# 2.\n",
        "robot = np.array([0,0]) # origin is in top left\n",
        "\n",
        "up = np.array([-1,0]) \n",
        "down = np.array([1,0])\n",
        "left = np.array([0,-1])\n",
        "right = np.array([0,1])\n",
        "\n",
        "\n",
        "actions =[down,right,up,up,right,right,down,down,down,left]\n",
        "\n",
        "for action in actions:\n",
        "    \n",
        "    if (action+robot)[0] < 0 or (action + robot)[0] > 4 or (action+robot)[1] < 0 or (action + robot)[1] > 4:\n",
        "        continue;\n",
        "    robot += action\n",
        "    world[robot[0]][robot[1]] = 1\n",
        "\n",
        "print(robot)"
      ],
      "execution_count": 89,
      "outputs": [
        {
          "output_type": "stream",
          "text": [
            "[3 2]\n"
          ],
          "name": "stdout"
        }
      ]
    },
    {
      "cell_type": "code",
      "metadata": {
        "colab": {
          "base_uri": "https://localhost:8080/",
          "height": 282
        },
        "id": "usEob6vsRmSL",
        "outputId": "720c4793-cab0-4101-d4e2-fe6ea836ac7a"
      },
      "source": [
        "# 3.\n",
        "plt.imshow(world)"
      ],
      "execution_count": 90,
      "outputs": [
        {
          "output_type": "execute_result",
          "data": {
            "text/plain": [
              "<matplotlib.image.AxesImage at 0x7f94fd8ebc10>"
            ]
          },
          "metadata": {
            "tags": []
          },
          "execution_count": 90
        },
        {
          "output_type": "display_data",
          "data": {
            "image/png": "[encoded data removed]",
            "text/plain": [
              "<Figure size 432x288 with 1 Axes>"
            ]
          },
          "metadata": {
            "tags": [],
            "needs_background": "light"
          }
        }
      ]
    }
  ]
}