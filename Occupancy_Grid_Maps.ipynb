{
  "nbformat": 4,
  "nbformat_minor": 0,
  "metadata": {
    "kernelspec": {
      "display_name": "Python 3",
      "language": "python",
      "name": "python3"
    },
    "language_info": {
      "codemirror_mode": {
        "name": "ipython",
        "version": 3
      },
      "file_extension": ".py",
      "mimetype": "text/x-python",
      "name": "python",
      "nbconvert_exporter": "python",
      "pygments_lexer": "ipython3",
      "version": "3.5.2"
    },
    "colab": {
      "name": "Occupancy_Grid_Maps.ipynb",
      "provenance": [],
      "collapsed_sections": [],
      "include_colab_link": true
    }
  },
  "cells": [
    {
      "cell_type": "markdown",
      "metadata": {
        "id": "view-in-github",
        "colab_type": "text"
      },
      "source": [
        "<a href=\"https://colab.research.google.com/github/ZohebAbai/mobile_sensing_robotics/blob/main/Occupancy_Grid_Maps.ipynb\" target=\"_parent\"><img src=\"https://colab.research.google.com/assets/colab-badge.svg\" alt=\"Open In Colab\"/></a>"
      ]
    },
    {
      "cell_type": "markdown",
      "metadata": {
        "id": "HK74LS0U9ND8"
      },
      "source": [
        "# Occupancy Grid Maps\n",
        "\n",
        "## Why Maps?\n",
        "- Required for most robotic tasks like localization, planning etc. \n",
        "- Representation of the environment around mobile robots\n",
        "- Learning maps from sensor data is one of the fundamental tasks in robotics\n",
        "\n",
        "## Types of representations\n",
        "- Feature Maps : stores the location of distinct points in the environment; multiple feature observations improve the landmark position estimate\n",
        "- Volumetric Maps : Occupancy based representations depicting free space and occupied space e.g. 2d, point clouds, voxel maps; discretizes the world into independent cells whether its occupied or not; its non-parametric\n",
        "\n",
        "## Mapping Task\n",
        "Compute the most likely map given the sensor data\n",
        "$$m^* = argmax_m \\, P(m|u_1, z_1,...,u_t, z_t)$$ \n",
        "\n",
        "<center><b>OR</b></center>\n",
        "\n",
        "Compute the most likely map given the robot's pose\n",
        "$$m^* = argmax_m \\, P(m|x_1, z_1,...,x_t, z_t)$$\n",
        "\n",
        "## Occupancy Probability Example\n",
        "Each cell is a binary random variable that models the occupancy\n",
        "$$P(M_i = occ) = p(m_i) = 0.75$$\n",
        "$$P(M_i = free) = p(-m_i) = 1 - p(m_i) = 0.25$$\n",
        "\n",
        "### Representation of map from its cells\n",
        "The probability distribution of map is given by the product over the independent cells\n",
        "$$p(m) = \\Pi_i \\, p(m_i)$$\n",
        "\n",
        "## Estimating a map from data\n",
        "Given sensor data $z_{1:t}$ and the poses $x_{1:t}$, estimate the map\n",
        "$$p(m|z_{1:t}, x_{1:t}) = \\Pi_i \\, p(m_i|z_{1:t}, x_{1:t})$$\n",
        "\n",
        "Applying static state binary bayes filter\n",
        "$$p(m_i|z_{1:t}, x_{1:t}) = \\frac{p(z_t|m_i, z_{1:t-1}, x_{1:t}) \\,p(m_i|z_{1:t-1}, x_{1:t})}{p(z_t|z_{1:t-1}, x_{1:t})}$$\n",
        "\n",
        "Applying Markov assumption and independence\n",
        "$$p(m_i|z_{1:t}, x_{1:t}) = \\frac{p(z_t|m_i, x_t) \\,p(m_i|z_{1:t-1}, x_{1:t-1})}{p(z_t|z_{1:t-1}, x_{1:t})}$$\n",
        "\n",
        "Applying Bayes Rule on 1st term and independence\n",
        "$$p(m_i|z_{1:t}, x_{1:t}) = \\frac{p(m_i|z_t, x_t)p(z_t | x_t) \\,p(m_i|z_{1:t-1}, x_{1:t-1})}{p(m_i) \\, p(z_t|z_{1:t-1}, x_{1:t})}$$\n",
        "\n",
        "As there are only binary states, so for exact opposite state event, we get\n",
        "$$p(-m_i|z_{1:t}, x_{1:t}) = \\frac{p(-m_i|z_t, x_t)p(z_t | x_t) \\,p(-m_i|z_{1:t-1}, x_{1:t-1})}{p(-m_i) \\, p(z_t|z_{1:t-1}, x_{1:t})}$$\n",
        "\n",
        "Now computing the ratio of both probabilities, we obtain\n",
        "$$\\frac{p(m_i|z_{1:t}, x_{1:t})}{p(-m_i|z_{1:t}, x_{1:t})} = \\frac{p(m_i|z_t, x_t)}{1 - p(m_i|z_t, x_t)} \\frac{p(m_i|z_{1:t-1}, x_{1:t-1})}{1 - p(m_i|z_{1:t-1}, x_{1:t-1})} \\frac{1 - p(m_i)}{p(m_i)} \\, \\,...(1)$$\n",
        "\n",
        "In RHS,\n",
        "\n",
        "**1st term is inverse sensor model term, it uses current observations $z_t$**\n",
        "\n",
        "**2nd term is recursive term, its state estimate of the cell using data till t-1**\n",
        "\n",
        "**3rd term is prior information term, which tells what is my prior assumptions of occupancy in this world**\n",
        "\n",
        "To simplify the expression we turn the odds ratio into the probability\n",
        "\n",
        "As Odds(x) = $\\frac{p(x)}{1-p(x)}$, which gives us\n",
        "\n",
        "$$p(x) = [1 + Odds(x)^{-1}]^{-1}$$\n",
        "\n",
        "Now using the expression above, we have\n",
        "$$p(m_i|z_{1:t}, x_{1:t}) = [1 +  \\frac{1 - p(m_i|z_t, x_t)}{p(m_i|z_t, x_t)} \\frac{1 - p(m_i|z_{1:t-1}, x_{1:t-1})}{p(m_i|z_{1:t-1}, x_{1:t-1})} \\frac{p(m_i)}{1 - p(m_i)} ]^{-1}$$\n",
        "\n",
        "For efficiency reasons, we perform the calculations in log odds notation.\n",
        "\n",
        "So considering expression (1) and taking log on both sides we have:\n",
        "\n",
        "$$l(m_i|z_{1:t},x_{1:t}) = l(m_i|z_t,x_t) + l(m_i|z_{1:t-1},x_{1:t-1}) - l(m_i)$$\n",
        "\n",
        "In short,\n",
        "$$l_{t,i} = invsensormodel(m_i, x_t,z_t) + l_{t-1,i} +l_0$$\n",
        "\n",
        "Its also know as **mapping with known poses**\n",
        "\n"
      ]
    },
    {
      "cell_type": "markdown",
      "metadata": {
        "id": "cg9iy14M87mA"
      },
      "source": [
        "# Exercise 3\n",
        "\n",
        "## Occupancy grid mapping\n",
        "\n",
        "The aim of this assignment is to implement a 2D occupancy grid mapping algorithm as described in the lecture. We provide data recorded by a robot using a 2D laser scanner in an indoor environment. \n",
        "\n",
        "The raw data is arranged in the following manner:\n",
        "\n",
        "- `poses.data`: contains the **known** robot poses as it moves around the environment. Each line corresponds to the pose of the robot at a time instant\n",
        "\n",
        "- `ranges.data`: contains 2d laser range measurements recorded by the robot. Each line corresponds to the range measurements taken from the corresponding robot poses.\n",
        "\n",
        "---\n",
        "\n",
        "### Log odds to probability\n",
        "\n",
        "The occupancy calculations are usually performed using the log odds. We will need to convert between log odds and probabilities in this exercise. Implement the `logodds2prob` and `prob2logodds` functions. Verify that the conversion functions are correct for some test input. **[2.0]**"
      ]
    },
    {
      "cell_type": "code",
      "metadata": {
        "colab": {
          "base_uri": "https://localhost:8080/"
        },
        "id": "E8NGOM0o87mM",
        "outputId": "1f5a842c-230f-466e-f3b2-f31fc74b6c42"
      },
      "source": [
        "from ex3 import *\n",
        "\n",
        "# Input\n",
        "given_prob = 0.75\n",
        "\n",
        "# Odds calculation\n",
        "odds = (prob2logodds(given_prob))\n",
        "print(\"odds:\",odds)\n",
        "\n",
        "# Probs calculation\n",
        "prob =  (logodds2prob(odds))\n",
        "print(\"probs:\",prob)"
      ],
      "execution_count": 1,
      "outputs": [
        {
          "output_type": "stream",
          "text": [
            "odds: 1.0986122886681098\n",
            "probs: 0.750000000000000017\n"
          ],
          "name": "stdout"
        }
      ]
    },
    {
      "cell_type": "markdown",
      "metadata": {
        "id": "AlEZtYzq87mO"
      },
      "source": [
        "---\n",
        "### Inverse sensor model\n",
        "\n",
        "The occupancy grid mapping relies on as inverse sensor model to update the occupancy of a cell in the grid. For this exercise, we consider a simple sensor model, where the occupancy of cell $m_i$ is $P_{occ}$ if the measurement $z_t$ falls in that cell, otherwise the occupancy is $P_{free}$. \n",
        "\n",
        "However, if the cell $m_i$ is not in the perception field, the occupancy will be $P_{prior}$.\n",
        "\n",
        "Use the  following probabilities in the implementation:\n",
        "$$P_{occ} = 0.9, P_{free} = 0.35, P_{prior} = 0.5 $$\n",
        "\n",
        "Implement the inverse sensor model function and verify that it is correct for some test input. **[2.0]**"
      ]
    },
    {
      "cell_type": "code",
      "metadata": {
        "colab": {
          "base_uri": "https://localhost:8080/"
        },
        "id": "nEkV1iMR87mP",
        "outputId": "dee1c7cd-0ec1-4c83-bc74-356f98bb22f4"
      },
      "source": [
        "# Input \n",
        "cell = [1,1]\n",
        "endpoint = [9,9]\n",
        "prob_occ = 0.9\n",
        "prob_free = 0.35\n",
        "\n",
        "#Function call for the probability output\n",
        "sensor_model = inv_sensor_model(cell, endpoint, prob_occ, prob_free)\n",
        "print(sensor_model)"
      ],
      "execution_count": 2,
      "outputs": [
        {
          "output_type": "stream",
          "text": [
            "[[1.   1.   0.35]\n",
            " [2.   2.   0.35]\n",
            " [3.   3.   0.35]\n",
            " [4.   4.   0.35]\n",
            " [5.   5.   0.35]\n",
            " [6.   6.   0.35]\n",
            " [7.   7.   0.35]\n",
            " [8.   8.   0.35]\n",
            " [9.   9.   0.9 ]]\n"
          ],
          "name": "stdout"
        }
      ]
    },
    {
      "cell_type": "markdown",
      "metadata": {
        "id": "Q5FGDFPx87mP"
      },
      "source": [
        "---\n",
        "### Occupancy grid mapping algorithm:\n",
        "\n",
        "Implement the occupancy grid mapping algorithm as described in lecture slides. \n",
        "\n",
        "We provide some functions to make the implemntation easier.\n",
        "\n",
        "- `ranges2cells` converts the raw measurements acquired by the robot (*ranges_raw*) into the correspoding cells of the gridmap.\n",
        "- `poses2cells` converts the raw poses of the robot (*poses_raw*) into the correspoding cells of the gridmap.\n",
        "- `bresenham` returns all the cells along a straigh line between two points in the gridmap.\n",
        "\n",
        "Other parameters you may need in the implemntation are provided below.\n",
        "\n",
        "Implement the `grid_mapping_with_known_poses` functionn and compute the resulting occupancy grid map using all the measurements provided in the data.\n",
        "\n",
        "Plot the final occupancy gridmap using the `plot_gridmap` function. **[6.0]**\n"
      ]
    },
    {
      "cell_type": "code",
      "metadata": {
        "colab": {
          "base_uri": "https://localhost:8080/",
          "height": 269
        },
        "id": "gA3xB0CL87mQ",
        "outputId": "37601ef6-10e7-498d-b10e-974aaec4c609"
      },
      "source": [
        "import ex3\n",
        "import numpy as np\n",
        "%matplotlib inline\n",
        "\n",
        "map_size = 100\n",
        "map_res = 0.25\n",
        "\n",
        "prior = 0.50\n",
        "prob_occ = 0.90\n",
        "prob_free = 0.35\n",
        "\n",
        "# load data\n",
        "ranges_raw = np.loadtxt(\"ranges.data\", delimiter=',', dtype='float')\n",
        "poses_raw = np.loadtxt(\"poses.data\", delimiter=',', dtype='float')\n",
        "\n",
        "# initialize gridmap\n",
        "occ_gridmap = ex3.init_gridmap(map_size, map_res)+prior\n",
        "ex3.plot_gridmap(occ_gridmap)"
      ],
      "execution_count": 3,
      "outputs": [
        {
          "output_type": "display_data",
          "data": {
            "image/png": "[encoded data removed]",
            "text/plain": [
              "<Figure size 432x288 with 1 Axes>"
            ]
          },
          "metadata": {
            "tags": [],
            "needs_background": "light"
          }
        }
      ]
    },
    {
      "cell_type": "code",
      "metadata": {
        "colab": {
          "base_uri": "https://localhost:8080/",
          "height": 269
        },
        "id": "JxRmUgC187mR",
        "outputId": "e1427eaf-701c-437e-da88-49a6e03ca133"
      },
      "source": [
        "#Grid map output\n",
        "gridmap = ex3.grid_mapping_with_known_poses(ranges_raw, poses_raw, occ_gridmap, map_res, prob_occ, prob_free, prior)\n",
        "\n",
        "#Plot the grid map\n",
        "ex3.plot_gridmap(gridmap)"
      ],
      "execution_count": 4,
      "outputs": [
        {
          "output_type": "display_data",
          "data": {
            "image/png": "[encoded data removed]",
            "text/plain": [
              "<Figure size 432x288 with 1 Axes>"
            ]
          },
          "metadata": {
            "tags": [],
            "needs_background": "light"
          }
        }
      ]
    }
  ]
}