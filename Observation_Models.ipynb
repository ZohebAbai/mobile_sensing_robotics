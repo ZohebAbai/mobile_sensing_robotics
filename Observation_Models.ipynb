{
  "nbformat": 4,
  "nbformat_minor": 0,
  "metadata": {
    "kernelspec": {
      "display_name": "Python 3",
      "language": "python",
      "name": "python3"
    },
    "language_info": {
      "codemirror_mode": {
        "name": "ipython",
        "version": 3
      },
      "file_extension": ".py",
      "mimetype": "text/x-python",
      "name": "python",
      "nbconvert_exporter": "python",
      "pygments_lexer": "ipython3",
      "version": "3.5.2"
    },
    "colab": {
      "name": "Observation Models.ipynb",
      "provenance": [],
      "collapsed_sections": []
    }
  },
  "cells": [
    {
      "cell_type": "markdown",
      "metadata": {
        "id": "nc4Vw64_TXVU"
      },
      "source": [
        "# Exercise 5: Observation model\n",
        "\n",
        "\n",
        "## 5.1 Implement model for perceiving landmarks\n",
        "\n",
        "Consider a robot that operates in an environment populated by **range-only** sensors such as _beacons_.\n",
        "These sensors transmit a signal that allows for obtaining noisy measurements of their distance from a receiver mounted on the robot.\n",
        "\n",
        "The function `landmark_observation_model` realizes the observation model for perceiving landmarks with a range sensor. It takes as input:\n",
        " \n",
        "- the observed noisy range $z$\n",
        "- the standard deviation of the measurement $\\sigma_z$ (zero-mean Gaussian noise)\n",
        "- the position of the robot in the map $x$\n",
        "- the position of the beacon transmitting beacon in the map $m$\n",
        "\n",
        "The output of this function is the probability $p(z | x, m)$ that the measurement $z$ was obtained at position $x$.\n",
        "\n",
        "Implement the `landmark_observation_model` function and verify that it is correct for some test input. **[2.0]**"
      ]
    },
    {
      "cell_type": "code",
      "metadata": {
        "id": "8zaBH2NmTXVn"
      },
      "source": [
        "import numpy as np\n",
        "import matplotlib.pyplot as plt\n",
        "from ex8 import *"
      ],
      "execution_count": 1,
      "outputs": []
    },
    {
      "cell_type": "code",
      "metadata": {
        "id": "X2UtA5-4TXVp",
        "colab": {
          "base_uri": "https://localhost:8080/",
          "height": 85
        },
        "outputId": "957240ae-8579-456a-dc56-3be0d0c38da4"
      },
      "source": [
        "grid = np.zeros((1,10))\n",
        "z = 4\n",
        "std = 1\n",
        "m = [0,0]\n",
        "\n",
        "for i in range(grid.shape[1]):\n",
        "    grid[0,i] = landmark_obs_model(z,std,[0,i],m)\n",
        "plot_gridmap(grid)"
      ],
      "execution_count": 2,
      "outputs": [
        {
          "output_type": "display_data",
          "data": {
            "image/png": "[encoded data removed]",
            "text/plain": [
              "<Figure size 432x288 with 1 Axes>"
            ]
          },
          "metadata": {
            "tags": [],
            "needs_background": "light"
          }
        }
      ]
    },
    {
      "cell_type": "markdown",
      "metadata": {
        "id": "p_aRu-TITXVn"
      },
      "source": [
        "---\n",
        "\n",
        "## 5.2 Compute likelihood of measurement in the environment\n",
        "\n",
        "The robot operates in an environment that is represetend by a 20x20 grid map and contains a beacon at position $m_1 = [0,0]$ (top-left corner). \n",
        "\n",
        "The robot obtains a range measurement of the beacon $z_1 = 10$ and the sensor noise is $\\sigma_{z1} = 1$.\n",
        "\n",
        "Compute the `landmark_observation_model` at each cell of the environment and plot the likelihood of the observation over the environment. **[1.0]** "
      ]
    },
    {
      "cell_type": "code",
      "metadata": {
        "colab": {
          "base_uri": "https://localhost:8080/",
          "height": 265
        },
        "id": "U4aEXUjd3ShA",
        "outputId": "3ae09273-dee0-4793-cffc-434e44ddb0d1"
      },
      "source": [
        "map = np.zeros((20,20))\n",
        "z   = 10\n",
        "m   = [0,0]\n",
        "std = 1\n",
        "\n",
        "for i in range(map.shape[0]):\n",
        "    for j in range(map.shape[1]):\n",
        "        map[i,j] = landmark_obs_model(z,std,[i,j],m)\n",
        "\n",
        "plot_gridmap(map)"
      ],
      "execution_count": 3,
      "outputs": [
        {
          "output_type": "display_data",
          "data": {
            "image/png": "[encoded data removed]",
            "text/plain": [
              "<Figure size 432x288 with 1 Axes>"
            ]
          },
          "metadata": {
            "tags": [],
            "needs_background": "light"
          }
        }
      ]
    },
    {
      "cell_type": "markdown",
      "metadata": {
        "id": "wJ4TRTM4TXVs"
      },
      "source": [
        "---\n",
        "\n",
        "## 5.3 Multiple landmarks\n",
        "\n",
        "Assume that we install two **additional** beacons in our environment:\n",
        "\n",
        "- $m_2 = [0, 10]$\n",
        "- $m_3 = [10, 0]$\n",
        "\n",
        "from which we obtain the following observations:\n",
        "\n",
        "- $z_2 = 5$ with $\\sigma_{z2} = 3$\n",
        "- $z_3 = 9$ with $\\sigma_{z3} = 2$\n",
        "\n",
        "Compute the `landmark_observation_model` at each cell of the environment considering the measurements from **all** beacons and plot the **joint** likelihood of the observations over the environment. **[2.0]** "
      ]
    },
    {
      "cell_type": "code",
      "metadata": {
        "id": "7_fz63PeTXVt",
        "colab": {
          "base_uri": "https://localhost:8080/",
          "height": 265
        },
        "outputId": "be116f29-d2e3-4362-fabb-9918a56232fa"
      },
      "source": [
        "grid_map = np.zeros((20,20))\n",
        "z   = [5,9]\n",
        "m   = [[0,10],[10,0]]\n",
        "std = [3,2]\n",
        "\n",
        "for i in range(grid_map.shape[0]):\n",
        "    for j in range(grid_map.shape[1]):\n",
        "\n",
        "        prob_b1 = landmark_obs_model(z[0],std[0],[i,j],m[0])\n",
        "        prob_b2 = landmark_obs_model(z[1],std[1],[i,j],m[1])\n",
        "\n",
        "        grid_map[i,j]  = prob_b1 * prob_b2\n",
        "\n",
        "plot_gridmap(grid_map)"
      ],
      "execution_count": 4,
      "outputs": [
        {
          "output_type": "display_data",
          "data": {
            "image/png": "[encoded data removed]",
            "text/plain": [
              "<Figure size 432x288 with 1 Axes>"
            ]
          },
          "metadata": {
            "tags": [],
            "needs_background": "light"
          }
        }
      ]
    }
  ]
}